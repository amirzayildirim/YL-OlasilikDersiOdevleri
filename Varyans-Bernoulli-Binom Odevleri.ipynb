{
  "nbformat": 4,
  "nbformat_minor": 0,
  "metadata": {
    "colab": {
      "name": "Untitled1.ipynb",
      "version": "0.3.2",
      "provenance": [],
      "include_colab_link": true
    },
    "kernelspec": {
      "name": "python3",
      "display_name": "Python 3"
    }
  },
  "cells": [
    {
      "cell_type": "markdown",
      "metadata": {
        "id": "view-in-github",
        "colab_type": "text"
      },
      "source": [
        "<a href=\"https://colab.research.google.com/github/amirzayildirim/YL-OlasilikDersiOdevleri/blob/master/Varyans-Bernoulli-Binom%20Odevleri.ipynb\" target=\"_parent\"><img src=\"https://colab.research.google.com/assets/colab-badge.svg\" alt=\"Open In Colab\"/></a>"
      ]
    },
    {
      "cell_type": "markdown",
      "metadata": {
        "id": "Dwyw0bE5aIBX",
        "colab_type": "text"
      },
      "source": [
        "# Varyans\n",
        "\n",
        "\n",
        "***>> PROBLEM : Zar Örneği***\n"
      ]
    },
    {
      "cell_type": "markdown",
      "metadata": {
        "id": "Z_yrZyA2aaTH",
        "colab_type": "text"
      },
      "source": [
        "Öncelikle sayısal olarak ifade edilebilecek bir rastsal süreç bulmamız gerekiyor. Burada zar atma örneği oldukça iyi bir örnektir ve 6 yüzü olan zarın her yüzü için bir değer belirleyebiliriz. Buna göre zar atma işleminden sonra gelebilecek sayılar 1,2,3,4,5,6 olabilir. Şimdi beklenen değeri  hesaplamak için aşağıdaki şekilde önce bütün yüzlerin alabileceği değerleri toplayalım ve ihtimal sayısına bölelim:"
      ]
    },
    {
      "cell_type": "code",
      "metadata": {
        "id": "Jo2PfakLZ-zW",
        "colab_type": "code",
        "colab": {
          "base_uri": "https://localhost:8080/",
          "height": 34
        },
        "outputId": "6a5cd67b-695d-4fa4-f329-38fef121335f"
      },
      "source": [
        "beklenenDeger = (1+2+3+4+5+6)/6\n",
        "print (\"Beklenen Değer =>\",beklenenDeger)"
      ],
      "execution_count": 252,
      "outputs": [
        {
          "output_type": "stream",
          "text": [
            "Beklenen Değer => 3.5\n"
          ],
          "name": "stdout"
        }
      ]
    },
    {
      "cell_type": "markdown",
      "metadata": {
        "id": "7VZVD5NibYUN",
        "colab_type": "text"
      },
      "source": [
        "\"beklenenDeger\" Zar atma işleminin çok fazla tekrarlaması sonucunda elde edilmesi beklenen değerdir. Örneğin bir milyon kere zar atsak ve gelen değerleri toplayıp attığımız zar sayısına bölsek, 3.5 değeri çıkmasını bekleriz.Şimdi varyansı bulalım.\n",
        "Varyans => Var(X) = E[(X-μ)^2] ile hesaplanır."
      ]
    },
    {
      "cell_type": "code",
      "metadata": {
        "id": "tFmK9ZGuboJg",
        "colab_type": "code",
        "colab": {
          "base_uri": "https://localhost:8080/",
          "height": 34
        },
        "outputId": "a2aa926d-22d9-413d-f7e1-ff4c60ac0939"
      },
      "source": [
        "s = 0\n",
        "varyans = 0\n",
        "\n",
        "for i in range(1,7):\n",
        "  s = abs(i-beklenenDeger)\n",
        "  varyans += pow(s,2)\n",
        "  \n",
        "varyans = varyans/6\n",
        "print(\"Varyans =>\",varyans)"
      ],
      "execution_count": 253,
      "outputs": [
        {
          "output_type": "stream",
          "text": [
            "Varyans => 2.9166666666666665\n"
          ],
          "name": "stdout"
        }
      ]
    },
    {
      "cell_type": "markdown",
      "metadata": {
        "id": "5G5_B7ihky1_",
        "colab_type": "text"
      },
      "source": [
        "# **Bernoulli**\n",
        "***>> PROBLEM : Bir öğrenci İstatistik dersinden geçme olasılığının 0.7 olduğuna inanmaktadır. Olasılık dağılımının fonksiyonunu yazınız,varyansını hesaplayın***"
      ]
    },
    {
      "cell_type": "markdown",
      "metadata": {
        "id": "Ja0kupBSmyFQ",
        "colab_type": "text"
      },
      "source": [
        "Öğrenci dersten geçerse X rassal değişkeni x = 1 ve kalırsa x = 0 değerini alırsa, X rassal değişkeninin olasılık dağılımı şöyle yazılır: \n",
        "P (x=1) = 0.7 ve P (x=0) = 0.3  \n",
        "Olasılık dağılım fonksiyonu:  \n",
        "P ( X = x ) = p^x (1 – p)^(1-x)  =  0.7^x (1 – 0.7)^(1-x)  = 0.7^x *0.3^(1-x)  olarak bulunur. "
      ]
    },
    {
      "cell_type": "code",
      "metadata": {
        "id": "jBhN765im3Zo",
        "colab_type": "code",
        "colab": {}
      },
      "source": [
        "import sys\n",
        "def PHesapla(p,x):\n",
        "  return pow(p,x)*pow((1-p),1-x)\n",
        "  "
      ],
      "execution_count": 0,
      "outputs": []
    },
    {
      "cell_type": "markdown",
      "metadata": {
        "id": "IYOutT-jpkqU",
        "colab_type": "text"
      },
      "source": [
        "x in alabileceği değerlere(0,1) göre olasılık dağılımları aşağıdaki gibi bulunur."
      ]
    },
    {
      "cell_type": "code",
      "metadata": {
        "id": "cG4XWBMroW78",
        "colab_type": "code",
        "colab": {
          "base_uri": "https://localhost:8080/",
          "height": 51
        },
        "outputId": "38dd99d8-c5fd-4e38-9500-6ed1448bbf29"
      },
      "source": [
        "print(\"P(x=1) : \",PHesapla(0.7,1))\n",
        "print(\"P(x=0) : \",PHesapla(0.7,0))"
      ],
      "execution_count": 255,
      "outputs": [
        {
          "output_type": "stream",
          "text": [
            "P(x=1) :  0.7\n",
            "P(x=0) :  0.30000000000000004\n"
          ],
          "name": "stdout"
        }
      ]
    },
    {
      "cell_type": "markdown",
      "metadata": {
        "id": "AYQ2bFqWqCBR",
        "colab_type": "text"
      },
      "source": [
        "Varyansı ise  V=p(1-p) formülünden bulunur"
      ]
    },
    {
      "cell_type": "code",
      "metadata": {
        "id": "_ypGWFyPqPoU",
        "colab_type": "code",
        "colab": {
          "base_uri": "https://localhost:8080/",
          "height": 34
        },
        "outputId": "95def44a-e69d-45a6-e164-9ffb44792a26"
      },
      "source": [
        "varyans = 0.7*0.3\n",
        "\n",
        "print(\"Varyans : \",varyans)"
      ],
      "execution_count": 256,
      "outputs": [
        {
          "output_type": "stream",
          "text": [
            "Varyans :  0.21\n"
          ],
          "name": "stdout"
        }
      ]
    },
    {
      "cell_type": "markdown",
      "metadata": {
        "id": "4E5jIS-2rwsT",
        "colab_type": "text"
      },
      "source": [
        "# Binom\n",
        "***>> PROBLEM : Bir madeni para 4 kere atılmaktadır. 0, 1, 2, 3 ve 4 tane yazı gelme olasılıklarını sırayla hesaplayınız ve varyansını bulunuz***"
      ]
    },
    {
      "cell_type": "markdown",
      "metadata": {
        "id": "tvzPO1eYr7d4",
        "colab_type": "text"
      },
      "source": [
        "Bu bir Binom dağılımıdır ve olasılık fonksiyonu  P(x;4,0.5) = n!/x!(n-x)!*p^x*(1-p)^(n-x)"
      ]
    },
    {
      "cell_type": "code",
      "metadata": {
        "id": "fxgry3GttgVA",
        "colab_type": "code",
        "colab": {}
      },
      "source": [
        "def Fakt(x):\n",
        "  if x==1 or x==0:\n",
        "    return 1\n",
        "  else:\n",
        "    return x*Fakt(x-1)\n",
        "\n",
        "\n"
      ],
      "execution_count": 0,
      "outputs": []
    },
    {
      "cell_type": "code",
      "metadata": {
        "id": "4JYGJ5jFwMdX",
        "colab_type": "code",
        "colab": {}
      },
      "source": [
        "def Binom(x,n,a):\n",
        "  rst1 = Fakt(n)/( Fakt(x)*Fakt(n-x) )\n",
        "  rst2 = rst1 * pow(a,x)\n",
        "  rst3 = rst2 * pow(a,n-x)\n",
        "  \n",
        "  return rst3\n",
        "  "
      ],
      "execution_count": 0,
      "outputs": []
    },
    {
      "cell_type": "markdown",
      "metadata": {
        "id": "99wmi_Vhu42-",
        "colab_type": "text"
      },
      "source": [
        "0 tane yazı gelme olasılığı : \n",
        "p(0,4,0.5)\n",
        "\n"
      ]
    },
    {
      "cell_type": "code",
      "metadata": {
        "id": "_TsZfQj0vHNz",
        "colab_type": "code",
        "colab": {
          "base_uri": "https://localhost:8080/",
          "height": 34
        },
        "outputId": "caef7857-5415-468b-f604-4138e497e8c7"
      },
      "source": [
        "print(Binom(0,4,0.5))"
      ],
      "execution_count": 259,
      "outputs": [
        {
          "output_type": "stream",
          "text": [
            "0.0625\n"
          ],
          "name": "stdout"
        }
      ]
    },
    {
      "cell_type": "markdown",
      "metadata": {
        "id": "xn8jjsF2kwlu",
        "colab_type": "text"
      },
      "source": [
        "1 tane yazı gelme olasılığı : \n",
        "p(1,4,0.5)\n"
      ]
    },
    {
      "cell_type": "code",
      "metadata": {
        "id": "TmAhAC8Ck25Y",
        "colab_type": "code",
        "colab": {
          "base_uri": "https://localhost:8080/",
          "height": 34
        },
        "outputId": "4497574c-0e2f-4b6d-cf49-7a0124c097a7"
      },
      "source": [
        "print(Binom(1,4,0.5))"
      ],
      "execution_count": 260,
      "outputs": [
        {
          "output_type": "stream",
          "text": [
            "0.25\n"
          ],
          "name": "stdout"
        }
      ]
    },
    {
      "cell_type": "markdown",
      "metadata": {
        "id": "Gqu8Galik5k_",
        "colab_type": "text"
      },
      "source": [
        "2 tane yazı gelme olasılığı : \n",
        "p(2,4,0.5)"
      ]
    },
    {
      "cell_type": "code",
      "metadata": {
        "id": "uHp5JnCvlAr3",
        "colab_type": "code",
        "colab": {
          "base_uri": "https://localhost:8080/",
          "height": 34
        },
        "outputId": "498d8624-8b2a-4724-d989-a71014870728"
      },
      "source": [
        "print(Binom(2,4,0.5))"
      ],
      "execution_count": 261,
      "outputs": [
        {
          "output_type": "stream",
          "text": [
            "0.375\n"
          ],
          "name": "stdout"
        }
      ]
    },
    {
      "cell_type": "markdown",
      "metadata": {
        "id": "pbOMzWXylGyt",
        "colab_type": "text"
      },
      "source": [
        "3 tane yazı gelme olasılığı : \n",
        "p(3,4,0.5)"
      ]
    },
    {
      "cell_type": "code",
      "metadata": {
        "id": "Ulj96zBFlItn",
        "colab_type": "code",
        "colab": {
          "base_uri": "https://localhost:8080/",
          "height": 34
        },
        "outputId": "c010bfc2-9502-41bb-ec7e-3e705dde7f33"
      },
      "source": [
        "print(Binom(3,4,0.5))"
      ],
      "execution_count": 262,
      "outputs": [
        {
          "output_type": "stream",
          "text": [
            "0.25\n"
          ],
          "name": "stdout"
        }
      ]
    },
    {
      "cell_type": "markdown",
      "metadata": {
        "id": "RwKZqraolif-",
        "colab_type": "text"
      },
      "source": [
        "4 tane yazı gelme olasılığı : \n",
        "p(4,4,0.5)"
      ]
    },
    {
      "cell_type": "code",
      "metadata": {
        "id": "xbJi5Gi6lQY5",
        "colab_type": "code",
        "colab": {
          "base_uri": "https://localhost:8080/",
          "height": 34
        },
        "outputId": "e168c70e-6362-4ce1-854a-d61c2c24b4ea"
      },
      "source": [
        "print(Binom(4,4,0.5))"
      ],
      "execution_count": 263,
      "outputs": [
        {
          "output_type": "stream",
          "text": [
            "0.0625\n"
          ],
          "name": "stdout"
        }
      ]
    },
    {
      "cell_type": "markdown",
      "metadata": {
        "id": "1UqeLILZl3If",
        "colab_type": "text"
      },
      "source": [
        "Varyans : E [ (X - µx)2 ] "
      ]
    },
    {
      "cell_type": "code",
      "metadata": {
        "id": "ER9V77o4l4uB",
        "colab_type": "code",
        "colab": {
          "base_uri": "https://localhost:8080/",
          "height": 34
        },
        "outputId": "55404aa5-b9d5-4a7d-e894-bf2048aa7e3f"
      },
      "source": [
        "Varyans = 4*0.5*0.5\n",
        "print(\"Varyans : \",Varyans)"
      ],
      "execution_count": 264,
      "outputs": [
        {
          "output_type": "stream",
          "text": [
            "Varyans :  1.0\n"
          ],
          "name": "stdout"
        }
      ]
    }
  ]
}