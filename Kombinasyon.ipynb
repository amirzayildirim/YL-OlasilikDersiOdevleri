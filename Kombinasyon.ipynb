{
  "nbformat": 4,
  "nbformat_minor": 0,
  "metadata": {
    "colab": {
      "name": "Kombinasyon.ipynb",
      "version": "0.3.2",
      "provenance": [],
      "include_colab_link": true
    },
    "kernelspec": {
      "name": "python3",
      "display_name": "Python 3"
    }
  },
  "cells": [
    {
      "cell_type": "markdown",
      "metadata": {
        "id": "view-in-github",
        "colab_type": "text"
      },
      "source": [
        "<a href=\"https://colab.research.google.com/github/amirzayildirim/YL-OlasilikDersiOdevleri/blob/master/Kombinasyon.ipynb\" target=\"_parent\"><img src=\"https://colab.research.google.com/assets/colab-badge.svg\" alt=\"Open In Colab\"/></a>"
      ]
    },
    {
      "metadata": {
        "id": "UBYmy3s23t2I",
        "colab_type": "text"
      },
      "cell_type": "markdown",
      "source": [
        "Gönderilen Sayıya Göre Faktöriyel Hesabı Yapılan Metod"
      ]
    },
    {
      "metadata": {
        "id": "mMHxOMXX3lXZ",
        "colab_type": "code",
        "colab": {}
      },
      "cell_type": "code",
      "source": [
        "def faktoriyelHesapla(i):\n",
        "    \n",
        "    if i==1:       \n",
        "        return 1\n",
        "    \n",
        "    else: \n",
        "        return i * faktoriyelHesapla(i-1)\n",
        "    \n"
      ],
      "execution_count": 0,
      "outputs": []
    },
    {
      "metadata": {
        "id": "mukGugKB4Syq",
        "colab_type": "text"
      },
      "cell_type": "markdown",
      "source": [
        "Parametrelere  Göre Kombinasyon Hesabı Yapılan Metod"
      ]
    },
    {
      "metadata": {
        "id": "z0Ms7wWC4Ow3",
        "colab_type": "code",
        "colab": {}
      },
      "cell_type": "code",
      "source": [
        "def kombinasyonHesapla(j,k):\n",
        "    \n",
        "    if (j<k):\n",
        "        print(\"1. Sayının 2. Sayıdan büyük yada eşit olması gerekli. Verdiğiniz sayıların çözümü yoktur!\")\n",
        "   \n",
        "    elif(j==k):\n",
        "        print(\"1\")\n",
        "    \n",
        "    elif(j>k):\n",
        "        \n",
        "        s=1\n",
        "        s= faktoriyelHesapla(j)\n",
        "        \n",
        "        l=1\n",
        "        l= faktoriyelHesapla(k) \n",
        "        \n",
        "        f=1\n",
        "        f= faktoriyelHesapla(j-k) \n",
        "        \n",
        "        w=s/(l*f)\n",
        "        return w\n",
        "    \n",
        "    \n"
      ],
      "execution_count": 0,
      "outputs": []
    },
    {
      "metadata": {
        "id": "gIxdNCJ04aTM",
        "colab_type": "text"
      },
      "cell_type": "markdown",
      "source": [
        "Sayıların Alındığı  Ve İşlem Sonucunun Gösterildiği Kısım"
      ]
    },
    {
      "metadata": {
        "id": "aphjybMv4ZkD",
        "colab_type": "code",
        "colab": {
          "base_uri": "https://localhost:8080/",
          "height": 102
        },
        "outputId": "4251f59f-5157-49b9-fb1b-970c1e66dca4"
      },
      "cell_type": "code",
      "source": [
        "print(\"Kombinasyon hesabı için lütfen sayıları giriniz.\")   \n",
        " \n",
        "sayi1 = int(input(\"1. Sayı Giriniz: \"))\n",
        " \n",
        "sayi2 = int(input(\"2. Sayı Giriniz: \")) \n",
        " \n",
        "print(\"\\nSonuç:\",kombinasyonHesapla(sayi1,sayi2) )"
      ],
      "execution_count": 6,
      "outputs": [
        {
          "output_type": "stream",
          "text": [
            "Kombinasyon hesabı için lütfen sayıları giriniz.\n",
            "1. Sayı Giriniz: 4\n",
            "2. Sayı Giriniz: 3\n",
            "\n",
            "Sonuç: 4.0\n"
          ],
          "name": "stdout"
        }
      ]
    }
  ]
}