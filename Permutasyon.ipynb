{
  "nbformat": 4,
  "nbformat_minor": 0,
  "metadata": {
    "colab": {
      "name": "Permutasyon.ipynb",
      "version": "0.3.2",
      "provenance": [],
      "include_colab_link": true
    },
    "kernelspec": {
      "name": "python3",
      "display_name": "Python 3"
    }
  },
  "cells": [
    {
      "cell_type": "markdown",
      "metadata": {
        "id": "view-in-github",
        "colab_type": "text"
      },
      "source": [
        "<a href=\"https://colab.research.google.com/github/amirzayildirim/YL-OlasilikDersiOdevleri/blob/master/Permutasyon.ipynb\" target=\"_parent\"><img src=\"https://colab.research.google.com/assets/colab-badge.svg\" alt=\"Open In Colab\"/></a>"
      ]
    },
    {
      "metadata": {
        "id": "9TsmRYo-xSHD",
        "colab_type": "code",
        "colab": {}
      },
      "cell_type": "code",
      "source": [
        "def faktoriyelHesapla(i):\n",
        "    \n",
        "    if i==1:       \n",
        "        return 1\n",
        "    \n",
        "    else: \n",
        "        return i * faktoriyelHesapla(i-1)\n"
      ],
      "execution_count": 0,
      "outputs": []
    },
    {
      "metadata": {
        "id": "43m9XJjdzOh6",
        "colab_type": "text"
      },
      "cell_type": "markdown",
      "source": [
        "Gönderilen Parametrelere Göre Permütasyon Hesabının Yapıldığı Metod"
      ]
    },
    {
      "metadata": {
        "colab_type": "code",
        "id": "6fyzbBQSy1Gu",
        "colab": {}
      },
      "cell_type": "code",
      "source": [
        "def permutasyonHesapla(j,k):\n",
        "    \n",
        "    l = 0\n",
        "    \n",
        "    if k>j:        \n",
        "        l = l\n",
        "        \n",
        "    else:      \n",
        "        l = faktoriyelHesapla(j)/faktoriyelHesapla(j-k)\n",
        "        return l\n"
      ],
      "execution_count": 0,
      "outputs": []
    },
    {
      "metadata": {
        "colab_type": "text",
        "id": "fF8Cwv5py13F"
      },
      "cell_type": "markdown",
      "source": [
        "Sayıların Alındığı  Ve İşlem Sonucunun Gösterildiği Kısım"
      ]
    },
    {
      "metadata": {
        "colab_type": "code",
        "id": "kp8jJwXOy1kN",
        "colab": {
          "base_uri": "https://localhost:8080/",
          "height": 102
        },
        "outputId": "6432a1b7-2e9b-4664-d691-1e981b53ce59"
      },
      "cell_type": "code",
      "source": [
        "print(\"Permütasyon hesabı için lütfen sayıları giriniz.\")   \n",
        " \n",
        "sayi1 = int(input(\"1. Sayı Giriniz: \"))\n",
        " \n",
        "sayi2 = int(input(\"2. Sayı Giriniz: \")) \n",
        " \n",
        "print(\"\\nSonuç:\", permutasyonHesapla(sayi1,sayi2) )"
      ],
      "execution_count": 11,
      "outputs": [
        {
          "output_type": "stream",
          "text": [
            "Permütasyon hesabı için lütfen sayıları giriniz.\n",
            "1. Sayı Giriniz: 4\n",
            "2. Sayı Giriniz: 3\n",
            "\n",
            "Sonuç: 24.0\n"
          ],
          "name": "stdout"
        }
      ]
    },
    {
      "metadata": {
        "colab_type": "text",
        "id": "4q659P_ry1L9"
      },
      "cell_type": "markdown",
      "source": [
        ""
      ]
    },
    {
      "metadata": {
        "colab_type": "text",
        "id": "n4zvJBkjy1AN"
      },
      "cell_type": "markdown",
      "source": [
        ""
      ]
    },
    {
      "metadata": {
        "colab_type": "text",
        "id": "SfTSImepy09F"
      },
      "cell_type": "markdown",
      "source": [
        ""
      ]
    },
    {
      "metadata": {
        "colab_type": "text",
        "id": "OdVhz5jRy05V"
      },
      "cell_type": "markdown",
      "source": [
        ""
      ]
    },
    {
      "metadata": {
        "colab_type": "text",
        "id": "I4rDfVDRy019"
      },
      "cell_type": "markdown",
      "source": [
        ""
      ]
    }
  ]
}