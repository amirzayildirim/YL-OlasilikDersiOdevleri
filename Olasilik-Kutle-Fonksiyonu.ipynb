{
  "nbformat": 4,
  "nbformat_minor": 0,
  "metadata": {
    "colab": {
      "name": "Untitled0.ipynb",
      "version": "0.3.2",
      "provenance": [],
      "include_colab_link": true
    },
    "kernelspec": {
      "name": "python3",
      "display_name": "Python 3"
    }
  },
  "cells": [
    {
      "cell_type": "markdown",
      "metadata": {
        "id": "view-in-github",
        "colab_type": "text"
      },
      "source": [
        "<a href=\"https://colab.research.google.com/github/amirzayildirim/YL-OlasilikDersiOdevleri/blob/master/Olasilik-Kutle-Fonksiyonu.ipynb\" target=\"_parent\"><img src=\"https://colab.research.google.com/assets/colab-badge.svg\" alt=\"Open In Colab\"/></a>"
      ]
    },
    {
      "cell_type": "markdown",
      "metadata": {
        "id": "o9b1DD4leSf5",
        "colab_type": "text"
      },
      "source": [
        "**SORU:**\n",
        "\n",
        "Px(x) ={ x^2/30 , x= 1,2,3,4 ise \n",
        "              0, diğer x değerleri için\n",
        "              \n",
        "              P(x<=3) ve p(x=4) değerlerini hesaplayın.\n"
      ]
    },
    {
      "cell_type": "code",
      "metadata": {
        "id": "URi4ctUZaqoC",
        "colab_type": "code",
        "colab": {}
      },
      "source": [
        "def olasilikHesapla(x):\n",
        "  if(x==1 or x==2 or x==3 or x==4):\n",
        "    return (pow(x,2)/30)\n",
        "  else:\n",
        "    return 0"
      ],
      "execution_count": 0,
      "outputs": []
    },
    {
      "cell_type": "markdown",
      "metadata": {
        "id": "RVMiWJxHgfjG",
        "colab_type": "text"
      },
      "source": [
        "**Cevap 1: **\n",
        "\n",
        "P(x<=3) = P(1)+P(2)+P(3)"
      ]
    },
    {
      "cell_type": "code",
      "metadata": {
        "id": "d_SkQMwEf7x-",
        "colab_type": "code",
        "colab": {
          "base_uri": "https://localhost:8080/",
          "height": 34
        },
        "outputId": "833cb2c5-2f4d-4a0f-80db-ee08f41c32bf"
      },
      "source": [
        "toplam = olasilikHesapla(1)+olasilikHesapla(2)+olasilikHesapla(3)\n",
        "print(\"P(x<=3) : \",toplam)"
      ],
      "execution_count": 37,
      "outputs": [
        {
          "output_type": "stream",
          "text": [
            "P(x<=3) :  0.4666666666666667\n"
          ],
          "name": "stdout"
        }
      ]
    },
    {
      "cell_type": "markdown",
      "metadata": {
        "id": "rGya9UDWh7i3",
        "colab_type": "text"
      },
      "source": [
        "**Cevap 2: **\n",
        "\n",
        "P(x=4) = 4^2/30"
      ]
    },
    {
      "cell_type": "code",
      "metadata": {
        "id": "q02ZWfqXiCag",
        "colab_type": "code",
        "colab": {
          "base_uri": "https://localhost:8080/",
          "height": 34
        },
        "outputId": "ab209312-adcd-4c8c-ba56-4f9a25a4750d"
      },
      "source": [
        "print(\"P(x=4) : \",olasilikHesapla(4))"
      ],
      "execution_count": 38,
      "outputs": [
        {
          "output_type": "stream",
          "text": [
            "P(x=4) :  0.5333333333333333\n"
          ],
          "name": "stdout"
        }
      ]
    }
  ]
}